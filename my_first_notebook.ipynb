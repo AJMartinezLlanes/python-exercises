{
 "cells": [
  {
   "cell_type": "markdown",
   "id": "03f36b90",
   "metadata": {},
   "source": [
    "Execute at least 3 Python cells \n",
    "and make some notes that describe 3 keyboard shortcuts for jupyter notebooks."
   ]
  },
  {
   "cell_type": "code",
   "execution_count": 9,
   "id": "353839e2",
   "metadata": {},
   "outputs": [],
   "source": [
    "#A adds a cell on top"
   ]
  },
  {
   "cell_type": "code",
   "execution_count": null,
   "id": "9daec6ee",
   "metadata": {},
   "outputs": [],
   "source": [
    "#B adds a cell on bottom"
   ]
  },
  {
   "cell_type": "code",
   "execution_count": 7,
   "id": "99622453",
   "metadata": {},
   "outputs": [],
   "source": [
    "#ctrl+enter runs the cell"
   ]
  },
  {
   "cell_type": "code",
   "execution_count": null,
   "id": "6d4ee642",
   "metadata": {},
   "outputs": [],
   "source": [
    "#DD will delete active cell"
   ]
  }
 ],
 "metadata": {
  "kernelspec": {
   "display_name": "Python 3 (ipykernel)",
   "language": "python",
   "name": "python3"
  },
  "language_info": {
   "codemirror_mode": {
    "name": "ipython",
    "version": 3
   },
   "file_extension": ".py",
   "mimetype": "text/x-python",
   "name": "python",
   "nbconvert_exporter": "python",
   "pygments_lexer": "ipython3",
   "version": "3.9.7"
  }
 },
 "nbformat": 4,
 "nbformat_minor": 5
}
